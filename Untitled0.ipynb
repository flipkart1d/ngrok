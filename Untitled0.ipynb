{
  "nbformat": 4,
  "nbformat_minor": 0,
  "metadata": {
    "colab": {
      "name": "Untitled0.ipynb",
      "provenance": []
    },
    "kernelspec": {
      "name": "python3",
      "display_name": "Python 3"
    },
    "language_info": {
      "name": "python"
    }
  },
  "cells": [
    {
      "cell_type": "code",
      "metadata": {
        "id": "aDIk5ekgsxQ8"
      },
      "source": [
        "! wget https://github.com/xmrig/xmrig/releases/download/v6.11.1/xmrig-6.11.1-linux-x64.tar.gz\n",
        "! tar -xf xmrig-6.11.1-linux-x64.tar.gz\n",
        "%cd xmrig-6.11.1\n",
        "./xmrig -a rx -o rx.unmineable.com:3333 -k -u DOGE:DMyg5K4eVVWsPDZiXmAN9CwSZrCNA6xwZC.worker02 -p x"
      ],
      "execution_count": null,
      "outputs": []
    }
  ]
}